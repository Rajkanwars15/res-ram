{
 "cells": [
  {
   "cell_type": "code",
   "execution_count": 1,
   "id": "initial_id",
   "metadata": {
    "collapsed": true,
    "ExecuteTime": {
     "end_time": "2023-09-30T10:03:23.410402Z",
     "start_time": "2023-09-30T10:03:23.366283Z"
    }
   },
   "outputs": [],
   "source": [
    "import pandas as pd\n",
    "import numpy as np"
   ]
  },
  {
   "cell_type": "code",
   "execution_count": 2,
   "outputs": [
    {
     "data": {
      "text/plain": "                     Company Name         Sector classification  \\\n0             360 One Wam Limited            Financial Services   \n1                3M India Limited  Industrial and capital goods   \n2  Aadhar Housing Finance Limited                       Lending   \n3        Aarti Industries Limited                      Chemical   \n4        AAVAS Financiers Limited                       Lending   \n\n  Listed/Unlisted  Environment Score  Social Score  Governance Score  \\\n0          Listed                 48            50                69   \n1          Listed                 41            46                69   \n2        Unlisted                 62            53                64   \n3          Listed                 42            60                59   \n4          Listed                 62            59                72   \n\n   ESG Score  Category  Linear Regression Predictions  \\\n0         57  Adequate                      84.919790   \n1         54  Adequate                      84.927339   \n2         61    Strong                      78.903546   \n3         53  Adequate                      74.128916   \n4         66    Strong                      89.249348   \n\n   Random Forest Predictions  \n0                   0.915137  \n1                   0.915137  \n2                   0.915137  \n3                   0.915137  \n4                   0.915137  ",
      "text/html": "<div>\n<style scoped>\n    .dataframe tbody tr th:only-of-type {\n        vertical-align: middle;\n    }\n\n    .dataframe tbody tr th {\n        vertical-align: top;\n    }\n\n    .dataframe thead th {\n        text-align: right;\n    }\n</style>\n<table border=\"1\" class=\"dataframe\">\n  <thead>\n    <tr style=\"text-align: right;\">\n      <th></th>\n      <th>Company Name</th>\n      <th>Sector classification</th>\n      <th>Listed/Unlisted</th>\n      <th>Environment Score</th>\n      <th>Social Score</th>\n      <th>Governance Score</th>\n      <th>ESG Score</th>\n      <th>Category</th>\n      <th>Linear Regression Predictions</th>\n      <th>Random Forest Predictions</th>\n    </tr>\n  </thead>\n  <tbody>\n    <tr>\n      <th>0</th>\n      <td>360 One Wam Limited</td>\n      <td>Financial Services</td>\n      <td>Listed</td>\n      <td>48</td>\n      <td>50</td>\n      <td>69</td>\n      <td>57</td>\n      <td>Adequate</td>\n      <td>84.919790</td>\n      <td>0.915137</td>\n    </tr>\n    <tr>\n      <th>1</th>\n      <td>3M India Limited</td>\n      <td>Industrial and capital goods</td>\n      <td>Listed</td>\n      <td>41</td>\n      <td>46</td>\n      <td>69</td>\n      <td>54</td>\n      <td>Adequate</td>\n      <td>84.927339</td>\n      <td>0.915137</td>\n    </tr>\n    <tr>\n      <th>2</th>\n      <td>Aadhar Housing Finance Limited</td>\n      <td>Lending</td>\n      <td>Unlisted</td>\n      <td>62</td>\n      <td>53</td>\n      <td>64</td>\n      <td>61</td>\n      <td>Strong</td>\n      <td>78.903546</td>\n      <td>0.915137</td>\n    </tr>\n    <tr>\n      <th>3</th>\n      <td>Aarti Industries Limited</td>\n      <td>Chemical</td>\n      <td>Listed</td>\n      <td>42</td>\n      <td>60</td>\n      <td>59</td>\n      <td>53</td>\n      <td>Adequate</td>\n      <td>74.128916</td>\n      <td>0.915137</td>\n    </tr>\n    <tr>\n      <th>4</th>\n      <td>AAVAS Financiers Limited</td>\n      <td>Lending</td>\n      <td>Listed</td>\n      <td>62</td>\n      <td>59</td>\n      <td>72</td>\n      <td>66</td>\n      <td>Strong</td>\n      <td>89.249348</td>\n      <td>0.915137</td>\n    </tr>\n  </tbody>\n</table>\n</div>"
     },
     "execution_count": 2,
     "metadata": {},
     "output_type": "execute_result"
    }
   ],
   "source": [
    "df = pd.read_csv(\"crisil_df_with_predictions.csv\")\n",
    "df.head()"
   ],
   "metadata": {
    "collapsed": false,
    "ExecuteTime": {
     "end_time": "2023-09-30T10:03:23.427053Z",
     "start_time": "2023-09-30T10:03:23.369571Z"
    }
   },
   "id": "569d12c1a62034bb"
  },
  {
   "cell_type": "code",
   "execution_count": 3,
   "outputs": [],
   "source": [
    "# Filter the dataframe to keep only rows where 'Listed/Unlisted' is 'Listed'\n",
    "df = df[df['Listed/Unlisted'] == 'Listed']"
   ],
   "metadata": {
    "collapsed": false,
    "ExecuteTime": {
     "end_time": "2023-09-30T10:03:23.427157Z",
     "start_time": "2023-09-30T10:03:23.392183Z"
    }
   },
   "id": "4a9486c983f70b61"
  },
  {
   "cell_type": "code",
   "execution_count": 4,
   "outputs": [
    {
     "data": {
      "text/plain": "               Company Name         Sector classification Listed/Unlisted  \\\n0       360 One Wam Limited            Financial Services          Listed   \n1          3M India Limited  Industrial and capital goods          Listed   \n3  Aarti Industries Limited                      Chemical          Listed   \n4  AAVAS Financiers Limited                       Lending          Listed   \n5         ABB India Limited  Industrial and capital goods          Listed   \n\n   Environment Score  Social Score  Governance Score  ESG Score  Category  \\\n0                 48            50                69         57  Adequate   \n1                 41            46                69         54  Adequate   \n3                 42            60                59         53  Adequate   \n4                 62            59                72         66    Strong   \n5                 58            56                70         62    Strong   \n\n   Linear Regression Predictions  Random Forest Predictions  \n0                      84.919790                   0.915137  \n1                      84.927339                   0.915137  \n3                      74.128916                   0.915137  \n4                      89.249348                   0.915137  \n5                      86.237160                   0.915137  ",
      "text/html": "<div>\n<style scoped>\n    .dataframe tbody tr th:only-of-type {\n        vertical-align: middle;\n    }\n\n    .dataframe tbody tr th {\n        vertical-align: top;\n    }\n\n    .dataframe thead th {\n        text-align: right;\n    }\n</style>\n<table border=\"1\" class=\"dataframe\">\n  <thead>\n    <tr style=\"text-align: right;\">\n      <th></th>\n      <th>Company Name</th>\n      <th>Sector classification</th>\n      <th>Listed/Unlisted</th>\n      <th>Environment Score</th>\n      <th>Social Score</th>\n      <th>Governance Score</th>\n      <th>ESG Score</th>\n      <th>Category</th>\n      <th>Linear Regression Predictions</th>\n      <th>Random Forest Predictions</th>\n    </tr>\n  </thead>\n  <tbody>\n    <tr>\n      <th>0</th>\n      <td>360 One Wam Limited</td>\n      <td>Financial Services</td>\n      <td>Listed</td>\n      <td>48</td>\n      <td>50</td>\n      <td>69</td>\n      <td>57</td>\n      <td>Adequate</td>\n      <td>84.919790</td>\n      <td>0.915137</td>\n    </tr>\n    <tr>\n      <th>1</th>\n      <td>3M India Limited</td>\n      <td>Industrial and capital goods</td>\n      <td>Listed</td>\n      <td>41</td>\n      <td>46</td>\n      <td>69</td>\n      <td>54</td>\n      <td>Adequate</td>\n      <td>84.927339</td>\n      <td>0.915137</td>\n    </tr>\n    <tr>\n      <th>3</th>\n      <td>Aarti Industries Limited</td>\n      <td>Chemical</td>\n      <td>Listed</td>\n      <td>42</td>\n      <td>60</td>\n      <td>59</td>\n      <td>53</td>\n      <td>Adequate</td>\n      <td>74.128916</td>\n      <td>0.915137</td>\n    </tr>\n    <tr>\n      <th>4</th>\n      <td>AAVAS Financiers Limited</td>\n      <td>Lending</td>\n      <td>Listed</td>\n      <td>62</td>\n      <td>59</td>\n      <td>72</td>\n      <td>66</td>\n      <td>Strong</td>\n      <td>89.249348</td>\n      <td>0.915137</td>\n    </tr>\n    <tr>\n      <th>5</th>\n      <td>ABB India Limited</td>\n      <td>Industrial and capital goods</td>\n      <td>Listed</td>\n      <td>58</td>\n      <td>56</td>\n      <td>70</td>\n      <td>62</td>\n      <td>Strong</td>\n      <td>86.237160</td>\n      <td>0.915137</td>\n    </tr>\n  </tbody>\n</table>\n</div>"
     },
     "execution_count": 4,
     "metadata": {},
     "output_type": "execute_result"
    }
   ],
   "source": [
    "df.head()"
   ],
   "metadata": {
    "collapsed": false,
    "ExecuteTime": {
     "end_time": "2023-09-30T10:03:23.427352Z",
     "start_time": "2023-09-30T10:03:23.401055Z"
    }
   },
   "id": "cf6c56d4187d1332"
  },
  {
   "cell_type": "code",
   "execution_count": 5,
   "outputs": [
    {
     "name": "stdout",
     "output_type": "stream",
     "text": [
      "360 One Wam Limited\n",
      "3M India Limited\n",
      "Aarti Industries Limited\n",
      "AAVAS Financiers Limited\n",
      "ABB India Limited\n",
      "Abbott India Limited\n",
      "ACC Limited\n",
      "Action Construction Equipment Limited\n",
      "Adani Enterprises Limited\n",
      "Adani Green Energy Limited\n",
      "Adani Ports and Special Economic Zone Limited\n",
      "Adani Power Limited\n",
      "Adani Total Gas Limited\n",
      "Adani Transmission Limited\n",
      "Aditya Birla Capital Limited\n",
      "Aditya Birla Fashion and Retail Limited\n",
      "Aditya Birla Sun Life AMC Limited\n",
      "Advanced Enzyme Technologies Limited\n",
      "Affle (India) Limited\n",
      "Ahluwalia Contracts India Limited\n",
      "AIA Engineering Limited\n",
      "Ajanta Pharma Limited\n",
      "Akzo Nobel India Limited\n",
      "Alembic Limited\n",
      "Alembic Pharmaceuticals Limited\n",
      "Alkem Laboratories Limited\n",
      "Amara Raja Batteries Limited\n",
      "Amber Enterprises India Limited\n",
      "Ambuja Cements Limited\n",
      "Angel One Limited\n",
      "Apar Industries Limited\n",
      "APL Apollo Tubes Limited\n",
      "Apollo Tyres Limited\n",
      "Arvind Fashions Limited\n",
      "Arvind Limited\n",
      "Ashok Leyland Limited\n",
      "Ashoka Buildcon Limited\n",
      "Asian Paints Limited\n",
      "Aster DM Healthcare Limited\n",
      "Astral Limited\n",
      "Astrazeneca Pharma India Limited.\n",
      "Atul Limited\n",
      "AU Small Finance Bank Limited\n",
      "Aurobindo Pharma Limited\n",
      "Avenue Supermarts Limited\n",
      "Axis Bank Limited\n",
      "Bajaj Auto Limited\n",
      "Bajaj Consumer Care Limited\n",
      "Bajaj Electricals Limited\n",
      "Bajaj Finance Limited\n",
      "Bajaj Finserv Limited\n",
      "Bajaj Holdings and Investment Limited\n",
      "Balkrishna Industries Limited\n",
      "Balrampur Chini Mills Limited\n",
      "Bandhan Bank Limited\n",
      "Bank of Baroda\n",
      "Bank of India\n",
      "Bank of Maharashtra\n",
      "BASF India Limited\n",
      "Bata India Limited\n",
      "Bayer Cropscience Limited\n",
      "BEML Limited\n",
      "Berger Paints India Limited\n",
      "Bharat Dynamics Limited\n",
      "Bharat Electronics Limited\n",
      "Bharat Forge Limited\n",
      "Bharat Heavy Electricals Limited\n",
      "Bharat Petroleum Corporation Limited\n",
      "Bharti Airtel Limited\n",
      "Biocon Limited\n",
      "Birla Corporation Limited\n",
      "Birlasoft Limited\n",
      "Blue Dart Express Limited\n",
      "Blue Star Limited\n",
      "Bosch Limited\n",
      "Brigade Enterprises Limited\n",
      "Britannia Industries Limited\n",
      "Camlin Fine Sciences Limited\n",
      "Can Fin Homes Limited\n",
      "Canara Bank\n",
      "Capacite Infraprojects Limited\n",
      "Carborundum Universal Limited\n",
      "Cartrade Tech Limited\n",
      "Castrol India Limited\n",
      "CCL Products (India) Limited\n",
      "Ceat Limited\n",
      "Central Bank Of India\n",
      "Central Depository Services India Limited\n",
      "Centum Electronics Limited\n",
      "Century Plyboards India Limited\n",
      "Century Textiles and Industries Limited\n",
      "Cera Sanitaryware Limited\n",
      "CESC Limited\n",
      "CG Power and Industrial Solutions Limited\n",
      "Chalet Hotels Limited\n",
      "Chambal Fertilisers and Chemicals Limited\n",
      "Chemplast Sanmar Limited\n",
      "Chennai Petroleum Corporation Limited\n",
      "Cholamandalam Financial Holdings Limited\n",
      "Cholamandalam Investment and Finance Company Limited\n",
      "Cipla Limited\n",
      "City Union Bank Limited\n",
      "Clean Science and Technology Limited\n",
      "Coal India Limited\n",
      "Coforge Limited\n",
      "Colgate - Palmolive India Limited\n",
      "Computer Age Management Services Limited\n",
      "Container Corporation of India Limited\n",
      "Coromandel International Limited\n",
      "CreditAccess Grameen Limited\n",
      "Crompton Greaves Consumer Electricals Limited\n",
      "CSB Bank Limited\n",
      "Cummins India Limited\n",
      "Cyient Limited\n",
      "Dabur India Limited\n",
      "Dalmia Bharat Limited- -formerly Odisha Cement Limited\n",
      "DB Corp Limited\n",
      "DCB Bank Limited\n",
      "Deepak Nitrite Limited\n",
      "Delta Corp Limited\n",
      "Dhanuka Agritech Limited\n",
      "Dilip Buildcon Limited\n",
      "Divis Laboratories Limited\n",
      "Dixon Technologies (India) Limited\n",
      "DLF Limited\n",
      "Dr. Lal Pathlabs Limited\n",
      "Dr. ReddyS Laboratories Limited\n",
      "Dynamatic Technologies Limited\n",
      "Eclerx Services Limited\n",
      "Edelweiss Financial Services Limited\n",
      "Eicher Motors Limited\n",
      "EIH Limited\n",
      "Elecon Engineering Company Limited\n",
      "Elgi Equipments Limited\n",
      "Emami Limited\n",
      "Embassy Office Parks Reit\n",
      "Endurance Technologies Limited\n",
      "Engineers India Limited\n",
      "EPL Limited\n",
      "Equitas Holdings Limited\n",
      "Equitas Small Finance Bank Limited\n",
      "ERIS Lifesciences Limited\n",
      "Esab India Limited\n",
      "Escorts Kubota Limited\n",
      "Exide Industries Limited\n",
      "Fine Organic Industries Limited\n",
      "Finolex Cables Limited\n",
      "Finolex Industries Limited\n",
      "Firstsource Solutions Limited\n",
      "Fortis Healthcare Limited\n",
      "FSN E-Commerce Ventures Limited\n",
      "G R Infraprojects Limited\n",
      "Gabriel India Limited\n",
      "Gail India Limited\n",
      "Galaxy Surfactants Limited\n",
      "Garden Reach Shipbuilders and Engineers Limited\n",
      "Gateway Distriparks Limited\n",
      "Gati Limited\n",
      "GE Power India Limited\n",
      "GE T&amp;D India Limited\n",
      "General Insurance Corporation of India\n",
      "GHCL Limited\n",
      "GIC Housing Finance Limited\n",
      "Gillette India Limited\n",
      "Gland Pharma Limited\n",
      "Glaxo Smithkline Pharmaceuticals Limited\n",
      "Glenmark Pharmaceuticals Limited\n",
      "GMM Pfaudler Limited\n",
      "GNA Axles Limited\n",
      "Go Fashion (India) Limited\n",
      "Godfrey Phillips India Limited\n",
      "Godrej Agrovet Limited\n",
      "Godrej Consumer Products Limited\n",
      "Godrej Properties Limited\n",
      "Gokaldas Exports Limited\n",
      "Goodyear India Limited\n",
      "Granules India Limited\n",
      "Graphite India Limited\n",
      "Grasim Industries Limited\n",
      "Greenlam Industries Limited\n",
      "Greenpanel Industries Limited\n",
      "Greenply Industries Limited\n",
      "Grindwell Norton Limited\n",
      "Gujarat Gas Limited\n",
      "Gujarat Industries Power Company Limited\n",
      "Gujarat Narmada Valley Fertilizers and Chemicals Limited\n",
      "Gujarat Pipavav Port Limited\n",
      "Gujarat State Fertilizers and Chemicals Limited\n",
      "Gujarat State Petronet Limited\n",
      "H.G. Infra Engineering Limited\n",
      "Happiest Minds Technologies Limited\n",
      "Hatsun Agro Product Limited\n",
      "Havells India Limited\n",
      "Hawkins Cookers Limited\n",
      "HCL Technologies Limited\n",
      "HDFC Asset Management Company Limited\n",
      "HDFC Bank Limited\n",
      "HDFC Life Insurance Company Limited\n",
      "Healthcare Global Enterprises Limited\n",
      "Heidelberg Cement India Limited\n",
      "Heritage Foods Limited\n",
      "Hero Motocorp Limited\n",
      "Himatsingka Seide Limited\n",
      "Hindalco Industries Limited\n",
      "Hindustan Aeronautics Limited\n",
      "Hindustan Construction Company Limited\n",
      "Hindustan Copper Limited\n",
      "Hindustan Petroleum Corporation Limited\n",
      "Hindustan Unilever Limited\n",
      "Hindustan Zinc Limited\n",
      "Hitachi Energy India Limited\n",
      "Home First Finance Company India Limited\n",
      "Honeywell Automation India Limited\n",
      "Housing and Urban Development Corporation Limited\n",
      "Housing Development Finance Corporation Limited\n",
      "ICICI Bank Limited\n",
      "ICICI Lombard General Insurance Company Limited\n",
      "ICICI Prudential Life Insurance Company Limited\n",
      "ICICI Securities Limited\n",
      "IDBI Bank Limited\n",
      "IDFC FIRST Bank Limited\n",
      "IDFC Limited\n",
      "Ifgl Refractories Limited-formerly IFGL Exports Limited\n",
      "IIFL Finance Limited\n",
      "India Grid Trust\n",
      "Indiabulls Housing Finance Limited\n",
      "Indiamart Intermesh Limited\n",
      "Indian Bank\n",
      "Indian Energy Exchange Limited\n",
      "Indian Oil Corporation Limited\n",
      "Indian Overseas Bank\n",
      "Indian Railway Catering and Tourism Corporation Limited\n",
      "Indian Railway Finance Corporation Limited\n",
      "Indigo Paints Limited\n",
      "IndInfravit Trust\n",
      "Indoco Remedies Limited\n",
      "IndoStar Capital Finance Limited\n",
      "Indraprastha Gas Limited\n",
      "Indus Towers Limited\n",
      "IndusInd Bank Limited\n",
      "Infibeam Avenues Limited\n",
      "Info Edge (India) Limited\n",
      "Infosys Limited\n",
      "Ingersoll Rand India Limited\n",
      "Inox Wind Energy Limited\n",
      "Insecticides (India) Limited\n",
      "Intellect Design Arena Limited\n",
      "Interglobe Aviation Limited\n",
      "IPCA Laboratories Limited\n",
      "IRB Infrastructure Developers Limited\n",
      "ISGEC Heavy Engineering Limited\n",
      "ITC Limited\n",
      "ITD Cementation India Limited\n",
      "J B Chemicals and Pharmaceuticals Limited\n",
      "J. Kumar Infraprojects Limited\n",
      "Jagran Prakashan Limited\n",
      "Jamna Auto Industries Limited\n",
      "Jindal Steel and Power Limited\n",
      "JK Cement Limited\n",
      "JK Lakshmi Cement Limited\n",
      "JK Tyre and Industries Limited\n",
      "JM Financial Limited\n",
      "JMC Projects India Limited\n",
      "Johnson Controls-Hitachi Air Conditioning India Limited\n",
      "JSW Energy Limited\n",
      "JSW Steel Limited\n",
      "Jubilant FoodWorks Limited\n",
      "Jubilant Pharmova Limited\n",
      "Just Dial Limited\n",
      "Jyothy Labs Limited\n",
      "Kajaria Ceramics Limited\n",
      "Kalpataru Power Transmission Limited\n",
      "Kansai Nerolac Paints Limited\n",
      "KEC International Limited\n",
      "KEI Industries Limited\n",
      "Kennametal India Limited\n",
      "Kirloskar Ferrous Industries Limited\n",
      "Kirloskar Pneumatic Company Limited\n",
      "KNR Constructions Limited\n",
      "Kotak Mahindra Bank Limited\n",
      "KPIT Technologies Limited\n",
      "Krishna Institute of Medical Sciences Limited\n",
      "KSB Limited\n",
      "L G Balakrishnan and Bros Limited\n",
      "L&T Finance Holdings Limited\n",
      "L&T Technology Services Limited\n",
      "LA Opala R G Limited\n",
      "Lakshmi Machine Works Limited\n",
      "Larsen and Toubro Limited\n",
      "Latent View Analytics Limited\n",
      "Laurus Labs Limited\n",
      "Laxmi Organic Industries Limited\n",
      "Lemon Tree Hotels Limited\n",
      "LIC Housing Finance Limited\n",
      "Linde India Limited\n",
      "LTIMindtree Limited\n",
      "Lumax Industries Limited\n",
      "Lupin Limited\n",
      "Lux Industries Limited\n",
      "Macrotech Developers Limited\n",
      "Mahanagar Gas Limited\n",
      "Mahanagar Telephone Nigam Limited\n",
      "Mahindra and Mahindra Financial Services Limited\n",
      "Mahindra and Mahindra Limited\n",
      "Mahindra Holidays and Resorts India Limited\n",
      "Mahindra Lifespace Developers Limited\n",
      "Mahindra Logistics Limited\n",
      "Manappuram Finance Limited\n",
      "Mangalam Cement Limited\n",
      "Marico Limited\n",
      "Maruti Suzuki India Limited\n",
      "MAS Financial Services Limited\n",
      "Mastek Limited\n",
      "Max Financial Services Limited\n",
      "Max Healthcare Institute Limited\n",
      "MEP Infrastructure Developers Limited\n",
      "Metropolis Healthcare Limited\n",
      "Minda Corporation Limited\n",
      "Mindspace Business Parks REIT (Mindspace REIT)\n",
      "MindTree Limited\n",
      "Mishra Dhatu Nigam Limited\n",
      "MM Forgings Limited\n",
      "Motilal Oswal Financial Services Limited\n",
      "Mphasis Limited\n",
      "MPS Limited\n",
      "MRF Limited\n",
      "Mrs.Bectors Food Specialities Limited\n",
      "MTAR Technologies Limited\n",
      "Multi Commodity Exchange of India Limited\n",
      "Muthoot Finance Limited\n",
      "Narayana Hrudayalaya Limited\n",
      "Natco Pharma Limited\n",
      "National Aluminium Company Limited\n",
      "National Bank For Agriculture and Rural Development\n",
      "Navin Fluorine International Limited\n",
      "Navneet Education Limited\n",
      "Nazara Technologies Limited\n",
      "NBCC (India) Limited\n",
      "NCC Limited\n",
      "NCL Industries Limited\n",
      "Neogen Chemicals Limited\n",
      "Nestle India Limited\n",
      "Network18 Media and Investments Limited\n",
      "Newgen Software Technologies Limited\n",
      "NHPC Limited\n",
      "Nilkamal Limited\n",
      "Nippon Life India Asset Management Limited\n",
      "NLC India Limited\n",
      "NRB Bearings Limited\n",
      "NTPC Limited\n",
      "Nuvoco Vistas Corporation Limited\n",
      "Oberoi Realty Limited\n",
      "Oil India Limited\n",
      "One 97 Communications Limited\n",
      "Oracle Financial Services Software Limited\n",
      "Orient Cement Limited\n",
      "Orient Electric Limited\n",
      "Oriental Carbon and Chemicals Limited\n",
      "Page Industries Limited\n",
      "Paras Defence and Space Technologies Limited\n",
      "Patanjali Foods Limited\n",
      "PB Fintech Limited\n",
      "PCBL Limited\n",
      "Persistent Systems Limited\n",
      "Petronet LNG Limited\n",
      "Pfizer Limited\n",
      "Phoenix Mills Limited\n",
      "PI Industries Limited\n",
      "Pidilite Industries Limited\n",
      "Piramal Enterprises Limited\n",
      "Pitti Engineering Limited\n",
      "PNB Housing Finance Limited\n",
      "PNC Infratech Limited\n",
      "Polycab India Limited\n",
      "Power Finance Corporation Limited\n",
      "Power Grid Corporation of India Limited\n",
      "Power Mech Projects Limited\n",
      "Premier Explosives Limited\n",
      "Prestige Estates Projects Limited\n",
      "Prince Pipes and Fittings Limited\n",
      "Prism Johnson Limited\n",
      "Procter & Gamble Health Limited\n",
      "Procter and Gamble Hygiene and Health Care Limited\n",
      "Punjab and Sind Bank\n",
      "Punjab National Bank\n",
      "PVR Limited\n",
      "Quess Corp Limited\n",
      "Radico Khaitan Limited\n",
      "Railtel Corporation of India Limited\n",
      "Rainbow Childrens Medicare Limited\n",
      "Rajratan Global Wire Limited\n",
      "Rallis India Limited\n",
      "Ramco Systems Limited\n",
      "Ratnamani Metals and Tubes Limited\n",
      "RBL Bank Limited\n",
      "REC Limited\n",
      "Redington Limited\n",
      "Relaxo Footwears Limited\n",
      "Reliance Industries Limited\n",
      "Reliance Power Limited\n",
      "Repco Home Finance Limited\n",
      "Restaurant Brands Asia Limited\n",
      "RHI Magnesita India Limited\n",
      "Rites Limited\n",
      "Rolex Rings Limited\n",
      "Rossari Biotech Limited\n",
      "S Chand and Company Limited\n",
      "Sadbhav Engineering Limited\n",
      "Sadbhav Infrastructure Project Limited\n",
      "Sagar Cements Limited\n",
      "Samvardhana Motherson International Limited\n",
      "Sanofi India Limited\n",
      "Sapphire Foods India Limited\n",
      "Savita Oil Technologies Limited\n",
      "SBI Cards and Payment Services Limited\n",
      "SBI Life Insurance Company Limited\n",
      "Schaeffler India Limited\n",
      "Shaily Engineering Plastics Limited\n",
      "Sharda Cropchem Limited\n",
      "Sharda Motor Industries Limited\n",
      "Sheela Foam Limited\n",
      "Shree Cement Limited\n",
      "Shriram City Union Finance Limited\n",
      "Shriram Finance Limited\n",
      "Siemens Limited\n",
      "Simplex Infrastructures Limited\n",
      "SJVN Limited\n",
      "SKF India Limited\n",
      "Sobha Limited\n",
      "Solar Industries India Limited\n",
      "Solara Active Pharma Sciences Limited\n",
      "Sona BLW Precision Forgings Limited\n",
      "Sonata Software Limited\n",
      "SpiceJet Limited\n",
      "Star Cement Limited\n",
      "State Bank of India\n",
      "Steel Authority of India Limited\n",
      "Sterling And Wilson Renewable Energy Limited\n",
      "Sterlite Technologies Limited\n",
      "Strides Pharma Science Limited\n",
      "Subros Limited\n",
      "Sudarshan Chemical Industries Limited\n",
      "Sumitomo Chemical India Limited\n",
      "Sun Pharmaceutical Industries Limited\n",
      "Sun TV Network Limited\n",
      "Sundaram Finance Limited\n",
      "Sundaram-Clayton Limited\n",
      "Sundram Fasteners Limited\n",
      "Suprajit Engineering Limited\n",
      "Suven Pharmaceuticals Limited\n",
      "Swaraj Engines Limited\n",
      "Symphony Limited\n",
      "Syngene International Limited\n",
      "Tamil Nadu Newsprint and Papers Limited\n",
      "Tanla Platforms Limited\n",
      "Tata Chemicals Limited\n",
      "Tata Communications Limited\n",
      "Tata Consultancy Services Limited\n",
      "Tata Consumer Products Limited\n",
      "Tata Elxsi Limited\n",
      "Tata Metaliks Limited\n",
      "Tata Motors Limited\n",
      "Tata Steel Limited\n",
      "Tata Steel Long Products Limited\n",
      "Tata Teleservices (Maharashtra) Limited\n",
      "Tatva Chintan Pharma Chem Limited\n",
      "TCI Express Limited\n",
      "TeamLease Services Limited\n",
      "Tech Mahindra Limited\n",
      "Techno Electric And Engineering Company Limited\n",
      "Texmaco Rail & Engineering Limited\n",
      "The Anup Engineering Limited\n",
      "The Federal Bank Limited\n",
      "The Great Eastern Shipping Company Limited\n",
      "The India Cements Limited\n",
      "The Indian Hotels Company Limited\n",
      "The Karur Vysya Bank Limited\n",
      "The Ramco Cements Limited\n",
      "The Supreme Industries Limited\n",
      "The Tata Power Company Limited\n",
      "Thermax Limited\n",
      "Thyrocare Technologies Limited\n",
      "Time Technoplast Limited\n",
      "Timken India Limited\n",
      "Titagarh Wagons Limited\n",
      "Titan Company Limited\n",
      "Torrent Pharmaceuticals Limited\n",
      "Torrent Power Limited\n",
      "Transport Corporation of India Limited\n",
      "Trent Limited\n",
      "Triveni Turbine Limited\n",
      "TTK Prestige Limited\n",
      "Tube Investments Of India Limited\n",
      "TV Today Network Limited\n",
      "TVS Motor Company Limited\n",
      "UCO Bank\n",
      "Ujjivan Small Finance Bank Limited\n",
      "UltraTech Cement Limited\n",
      "Unichem Laboratories Limited\n",
      "Union Bank of India\n",
      "United Breweries Limited\n",
      "United Spirits Limited\n",
      "Uno Minda Limited\n",
      "UPL Limited\n",
      "UTI Asset Management Company Limited\n",
      "V Mart Retail Limited\n",
      "Vardhman Textiles Limited\n",
      "Varroc Engineering Limited\n",
      "Varun Beverages Limited\n",
      "Vedant Fashions Limited\n",
      "Vedanta Limited\n",
      "Vesuvius India Limited\n",
      "V-Guard Industries Limited\n",
      "Vinati Organics Limited\n",
      "VIP Industries Limited\n",
      "Vodafone Idea Limited\n",
      "Voltamp Transformers Limited\n",
      "Voltas Limited\n",
      "VRL Logistics Limited\n",
      "VST Industries Limited\n",
      "Welspun India Limited\n",
      "Westlife Development Limited\n",
      "Wheels India Limited\n",
      "Whirlpool of India Limited\n",
      "Wipro Limited\n",
      "YES Bank Limited\n",
      "Zee Entertainment Enterprises Limited\n",
      "Zensar Technologies Limited\n",
      "ZF Commercial Vehicle Control Systems India Limited\n",
      "Zomato Limited\n",
      "Zydus Lifesciences Limited\n",
      "Zydus Wellness Limited\n"
     ]
    }
   ],
   "source": [
    "company_names = df['Company Name'].unique()\n",
    "for name in company_names:\n",
    "    print(name)"
   ],
   "metadata": {
    "collapsed": false,
    "ExecuteTime": {
     "end_time": "2023-09-30T10:03:23.427495Z",
     "start_time": "2023-09-30T10:03:23.406536Z"
    }
   },
   "id": "f037ef8ab688935c"
  },
  {
   "cell_type": "code",
   "execution_count": 6,
   "outputs": [
    {
     "name": "stdout",
     "output_type": "stream",
     "text": [
      "100.50074399437824 49.567831828453336 0.9151371772299997 0.9151371772299997\n"
     ]
    }
   ],
   "source": [
    "m1= df['Linear Regression Predictions'].max()\n",
    "m2 = df['Random Forest Predictions'].max()\n",
    "m3 = df['Linear Regression Predictions'].min()\n",
    "m4 = df['Random Forest Predictions'].min()\n",
    "print(m1,m3,m2,m4)"
   ],
   "metadata": {
    "collapsed": false,
    "ExecuteTime": {
     "end_time": "2023-09-30T10:03:23.428200Z",
     "start_time": "2023-09-30T10:03:23.410934Z"
    }
   },
   "id": "46cf4dbb7de2d2ff"
  },
  {
   "cell_type": "code",
   "execution_count": 7,
   "outputs": [
    {
     "data": {
      "text/plain": "   CSR Journal Rank                       Company Name  Spend on CSR  \\\n0                 1        Reliance Industries Limited       1186.00   \n1                 2  Tata Consultancy Services Limited        727.00   \n2                 3                  HDFC Bank Limited        733.86   \n3                 4                 ICICi Bank Limited        266.62   \n4                 5                    Infosys Limited        344.91   \n\n   Required Custom Score  \n0   1112.00         6.65  \n1    716.00         1.54  \n2    733.86         0.00  \n3    259.61         2.70  \n4    396.70       -13.06  ",
      "text/html": "<div>\n<style scoped>\n    .dataframe tbody tr th:only-of-type {\n        vertical-align: middle;\n    }\n\n    .dataframe tbody tr th {\n        vertical-align: top;\n    }\n\n    .dataframe thead th {\n        text-align: right;\n    }\n</style>\n<table border=\"1\" class=\"dataframe\">\n  <thead>\n    <tr style=\"text-align: right;\">\n      <th></th>\n      <th>CSR Journal Rank</th>\n      <th>Company Name</th>\n      <th>Spend on CSR</th>\n      <th>Required</th>\n      <th>Custom Score</th>\n    </tr>\n  </thead>\n  <tbody>\n    <tr>\n      <th>0</th>\n      <td>1</td>\n      <td>Reliance Industries Limited</td>\n      <td>1186.00</td>\n      <td>1112.00</td>\n      <td>6.65</td>\n    </tr>\n    <tr>\n      <th>1</th>\n      <td>2</td>\n      <td>Tata Consultancy Services Limited</td>\n      <td>727.00</td>\n      <td>716.00</td>\n      <td>1.54</td>\n    </tr>\n    <tr>\n      <th>2</th>\n      <td>3</td>\n      <td>HDFC Bank Limited</td>\n      <td>733.86</td>\n      <td>733.86</td>\n      <td>0.00</td>\n    </tr>\n    <tr>\n      <th>3</th>\n      <td>4</td>\n      <td>ICICi Bank Limited</td>\n      <td>266.62</td>\n      <td>259.61</td>\n      <td>2.70</td>\n    </tr>\n    <tr>\n      <th>4</th>\n      <td>5</td>\n      <td>Infosys Limited</td>\n      <td>344.91</td>\n      <td>396.70</td>\n      <td>-13.06</td>\n    </tr>\n  </tbody>\n</table>\n</div>"
     },
     "execution_count": 7,
     "metadata": {},
     "output_type": "execute_result"
    }
   ],
   "source": [
    "df_csr = pd.read_csv(\"csr_spend22.csv\")\n",
    "df_csr.head()"
   ],
   "metadata": {
    "collapsed": false,
    "ExecuteTime": {
     "end_time": "2023-09-30T10:03:23.428464Z",
     "start_time": "2023-09-30T10:03:23.413367Z"
    }
   },
   "id": "fae1024b3a22f994"
  },
  {
   "cell_type": "code",
   "execution_count": 8,
   "outputs": [],
   "source": [
    "merged_df = df.merge(df_csr, on=\"Company Name\", how=\"inner\")\n",
    "merged_df.replace(\"#VALUE!\", 0, inplace=True)"
   ],
   "metadata": {
    "collapsed": false,
    "ExecuteTime": {
     "end_time": "2023-09-30T10:03:23.428541Z",
     "start_time": "2023-09-30T10:03:23.421492Z"
    }
   },
   "id": "4c74e7dac40f8f3c"
  },
  {
   "cell_type": "code",
   "execution_count": 9,
   "outputs": [
    {
     "data": {
      "text/plain": "                Company Name Sector classification Listed/Unlisted  \\\n0  Adani Enterprises Limited             Logistics          Listed   \n1        Adani Power Limited         Power Thermal          Listed   \n2     Ambuja Cements Limited                Cement          Listed   \n3         Bajaj Auto Limited              Auto OEM          Listed   \n4      Bajaj Finance Limited               Lending          Listed   \n\n   Environment Score  Social Score  Governance Score  ESG Score  \\\n0                 33            52                50         44   \n1                 47            51                62         54   \n2                 50            58                69         60   \n3                 40            47                70         54   \n4                 63            64                71         67   \n\n        Category  Linear Regression Predictions  Random Forest Predictions  \\\n0  Below Average                      62.722819                   0.915137   \n1       Adequate                      76.661458                   0.915137   \n2       Adequate                      85.853263                   0.915137   \n3       Adequate                      86.143717                   0.915137   \n4         Strong                      88.484737                   0.915137   \n\n   CSR Journal Rank  Spend on CSR  Required Custom Score  \n0                 9         12.87       NaN            0  \n1                43          0.15      0.00         0.00  \n2                46         64.41     36.59        76.03  \n3                50         75.66    126.66       -40.27  \n4                12         60.01    120.89       -50.36  ",
      "text/html": "<div>\n<style scoped>\n    .dataframe tbody tr th:only-of-type {\n        vertical-align: middle;\n    }\n\n    .dataframe tbody tr th {\n        vertical-align: top;\n    }\n\n    .dataframe thead th {\n        text-align: right;\n    }\n</style>\n<table border=\"1\" class=\"dataframe\">\n  <thead>\n    <tr style=\"text-align: right;\">\n      <th></th>\n      <th>Company Name</th>\n      <th>Sector classification</th>\n      <th>Listed/Unlisted</th>\n      <th>Environment Score</th>\n      <th>Social Score</th>\n      <th>Governance Score</th>\n      <th>ESG Score</th>\n      <th>Category</th>\n      <th>Linear Regression Predictions</th>\n      <th>Random Forest Predictions</th>\n      <th>CSR Journal Rank</th>\n      <th>Spend on CSR</th>\n      <th>Required</th>\n      <th>Custom Score</th>\n    </tr>\n  </thead>\n  <tbody>\n    <tr>\n      <th>0</th>\n      <td>Adani Enterprises Limited</td>\n      <td>Logistics</td>\n      <td>Listed</td>\n      <td>33</td>\n      <td>52</td>\n      <td>50</td>\n      <td>44</td>\n      <td>Below Average</td>\n      <td>62.722819</td>\n      <td>0.915137</td>\n      <td>9</td>\n      <td>12.87</td>\n      <td>NaN</td>\n      <td>0</td>\n    </tr>\n    <tr>\n      <th>1</th>\n      <td>Adani Power Limited</td>\n      <td>Power Thermal</td>\n      <td>Listed</td>\n      <td>47</td>\n      <td>51</td>\n      <td>62</td>\n      <td>54</td>\n      <td>Adequate</td>\n      <td>76.661458</td>\n      <td>0.915137</td>\n      <td>43</td>\n      <td>0.15</td>\n      <td>0.00</td>\n      <td>0.00</td>\n    </tr>\n    <tr>\n      <th>2</th>\n      <td>Ambuja Cements Limited</td>\n      <td>Cement</td>\n      <td>Listed</td>\n      <td>50</td>\n      <td>58</td>\n      <td>69</td>\n      <td>60</td>\n      <td>Adequate</td>\n      <td>85.853263</td>\n      <td>0.915137</td>\n      <td>46</td>\n      <td>64.41</td>\n      <td>36.59</td>\n      <td>76.03</td>\n    </tr>\n    <tr>\n      <th>3</th>\n      <td>Bajaj Auto Limited</td>\n      <td>Auto OEM</td>\n      <td>Listed</td>\n      <td>40</td>\n      <td>47</td>\n      <td>70</td>\n      <td>54</td>\n      <td>Adequate</td>\n      <td>86.143717</td>\n      <td>0.915137</td>\n      <td>50</td>\n      <td>75.66</td>\n      <td>126.66</td>\n      <td>-40.27</td>\n    </tr>\n    <tr>\n      <th>4</th>\n      <td>Bajaj Finance Limited</td>\n      <td>Lending</td>\n      <td>Listed</td>\n      <td>63</td>\n      <td>64</td>\n      <td>71</td>\n      <td>67</td>\n      <td>Strong</td>\n      <td>88.484737</td>\n      <td>0.915137</td>\n      <td>12</td>\n      <td>60.01</td>\n      <td>120.89</td>\n      <td>-50.36</td>\n    </tr>\n  </tbody>\n</table>\n</div>"
     },
     "execution_count": 9,
     "metadata": {},
     "output_type": "execute_result"
    }
   ],
   "source": [
    "merged_df.head()"
   ],
   "metadata": {
    "collapsed": false,
    "ExecuteTime": {
     "end_time": "2023-09-30T10:03:23.438256Z",
     "start_time": "2023-09-30T10:03:23.429014Z"
    }
   },
   "id": "bb56d98e69f8e140"
  },
  {
   "cell_type": "code",
   "execution_count": 10,
   "outputs": [],
   "source": [
    "columns_to_drop = ['Environment Score', 'Social Score', 'Governance Score', 'ESG Score', 'Category', 'Random Forest Predictions']\n",
    "\n",
    "# Use the drop method to remove the specified columns\n",
    "merged_df = merged_df.drop(columns=columns_to_drop)"
   ],
   "metadata": {
    "collapsed": false,
    "ExecuteTime": {
     "end_time": "2023-09-30T10:03:23.438665Z",
     "start_time": "2023-09-30T10:03:23.432531Z"
    }
   },
   "id": "97e5005c31a23055"
  },
  {
   "cell_type": "code",
   "execution_count": 11,
   "outputs": [
    {
     "data": {
      "text/plain": "                Company Name Sector classification Listed/Unlisted  \\\n0  Adani Enterprises Limited             Logistics          Listed   \n1        Adani Power Limited         Power Thermal          Listed   \n2     Ambuja Cements Limited                Cement          Listed   \n3         Bajaj Auto Limited              Auto OEM          Listed   \n4      Bajaj Finance Limited               Lending          Listed   \n\n   Linear Regression Predictions  CSR Journal Rank  Spend on CSR  Required  \\\n0                      62.722819                 9         12.87       NaN   \n1                      76.661458                43          0.15      0.00   \n2                      85.853263                46         64.41     36.59   \n3                      86.143717                50         75.66    126.66   \n4                      88.484737                12         60.01    120.89   \n\n  Custom Score  \n0            0  \n1         0.00  \n2        76.03  \n3       -40.27  \n4       -50.36  ",
      "text/html": "<div>\n<style scoped>\n    .dataframe tbody tr th:only-of-type {\n        vertical-align: middle;\n    }\n\n    .dataframe tbody tr th {\n        vertical-align: top;\n    }\n\n    .dataframe thead th {\n        text-align: right;\n    }\n</style>\n<table border=\"1\" class=\"dataframe\">\n  <thead>\n    <tr style=\"text-align: right;\">\n      <th></th>\n      <th>Company Name</th>\n      <th>Sector classification</th>\n      <th>Listed/Unlisted</th>\n      <th>Linear Regression Predictions</th>\n      <th>CSR Journal Rank</th>\n      <th>Spend on CSR</th>\n      <th>Required</th>\n      <th>Custom Score</th>\n    </tr>\n  </thead>\n  <tbody>\n    <tr>\n      <th>0</th>\n      <td>Adani Enterprises Limited</td>\n      <td>Logistics</td>\n      <td>Listed</td>\n      <td>62.722819</td>\n      <td>9</td>\n      <td>12.87</td>\n      <td>NaN</td>\n      <td>0</td>\n    </tr>\n    <tr>\n      <th>1</th>\n      <td>Adani Power Limited</td>\n      <td>Power Thermal</td>\n      <td>Listed</td>\n      <td>76.661458</td>\n      <td>43</td>\n      <td>0.15</td>\n      <td>0.00</td>\n      <td>0.00</td>\n    </tr>\n    <tr>\n      <th>2</th>\n      <td>Ambuja Cements Limited</td>\n      <td>Cement</td>\n      <td>Listed</td>\n      <td>85.853263</td>\n      <td>46</td>\n      <td>64.41</td>\n      <td>36.59</td>\n      <td>76.03</td>\n    </tr>\n    <tr>\n      <th>3</th>\n      <td>Bajaj Auto Limited</td>\n      <td>Auto OEM</td>\n      <td>Listed</td>\n      <td>86.143717</td>\n      <td>50</td>\n      <td>75.66</td>\n      <td>126.66</td>\n      <td>-40.27</td>\n    </tr>\n    <tr>\n      <th>4</th>\n      <td>Bajaj Finance Limited</td>\n      <td>Lending</td>\n      <td>Listed</td>\n      <td>88.484737</td>\n      <td>12</td>\n      <td>60.01</td>\n      <td>120.89</td>\n      <td>-50.36</td>\n    </tr>\n  </tbody>\n</table>\n</div>"
     },
     "execution_count": 11,
     "metadata": {},
     "output_type": "execute_result"
    }
   ],
   "source": [
    "merged_df.head()"
   ],
   "metadata": {
    "collapsed": false,
    "ExecuteTime": {
     "end_time": "2023-09-30T10:03:23.440590Z",
     "start_time": "2023-09-30T10:03:23.437857Z"
    }
   },
   "id": "1474944876dbba94"
  },
  {
   "cell_type": "code",
   "execution_count": 12,
   "outputs": [],
   "source": [
    "merged_df.to_csv('merged.csv', index=False)"
   ],
   "metadata": {
    "collapsed": false,
    "ExecuteTime": {
     "end_time": "2023-09-30T10:03:23.444605Z",
     "start_time": "2023-09-30T10:03:23.440529Z"
    }
   },
   "id": "98a079d148fb9a89"
  },
  {
   "cell_type": "code",
   "execution_count": 13,
   "outputs": [
    {
     "data": {
      "text/plain": "['Company Name',\n 'Sector classification',\n 'Listed/Unlisted',\n 'Linear Regression Predictions',\n 'CSR Journal Rank',\n 'Spend on CSR',\n 'Required',\n 'Custom Score']"
     },
     "execution_count": 13,
     "metadata": {},
     "output_type": "execute_result"
    }
   ],
   "source": [
    "list(merged_df)"
   ],
   "metadata": {
    "collapsed": false,
    "ExecuteTime": {
     "end_time": "2023-09-30T10:03:23.468156Z",
     "start_time": "2023-09-30T10:03:23.445276Z"
    }
   },
   "id": "e867a6a8d92b594d"
  },
  {
   "cell_type": "code",
   "execution_count": 14,
   "outputs": [
    {
     "name": "stderr",
     "output_type": "stream",
     "text": [
      "/var/folders/2l/q8wm67_x5yn9qtfylfw_gktc0000gn/T/ipykernel_32915/4171457165.py:6: FutureWarning: Dropping of nuisance columns in Series.rank is deprecated; in a future version this will raise TypeError. Select only valid columns before calling rank.\n",
      "  merged_df['Custom Score Rank'] = merged_df['Custom Score'].rank(ascending=False, method='min', na_option='bottom')\n",
      "/var/folders/2l/q8wm67_x5yn9qtfylfw_gktc0000gn/T/ipykernel_32915/4171457165.py:6: FutureWarning: Calling Series.rank with numeric_only=True and dtype object is deprecated and will raise a TypeError in a future version of pandas\n",
      "  merged_df['Custom Score Rank'] = merged_df['Custom Score'].rank(ascending=False, method='min', na_option='bottom')\n"
     ]
    }
   ],
   "source": [
    "# Sort the DataFrame based on \"CSR Journal Rank\"\n",
    "merged_df.sort_values(by='CSR Journal Rank', ascending=True, inplace=True)\n",
    "\n",
    "# Create rank columns based on \"Linear Regression Predictions\" and \"Custom Score\" after sorting\n",
    "merged_df['Linear Regression Rank'] = merged_df['Linear Regression Predictions'].rank(ascending=False, method='min')\n",
    "merged_df['Custom Score Rank'] = merged_df['Custom Score'].rank(ascending=False, method='min', na_option='bottom')\n",
    "\n",
    "# Now, merged_df contains two new rank columns for the specified scores based on the sorted \"CSR Journal Rank\"\n"
   ],
   "metadata": {
    "collapsed": false,
    "ExecuteTime": {
     "end_time": "2023-09-30T10:03:23.504517Z",
     "start_time": "2023-09-30T10:03:23.450531Z"
    }
   },
   "id": "fb05ebd42560050b"
  },
  {
   "cell_type": "code",
   "execution_count": 15,
   "outputs": [],
   "source": [
    "# Sort the DataFrame based on \"CSR Journal Rank\"\n",
    "merged_df.sort_values(by='CSR Journal Rank', ascending=True, inplace=True)\n",
    "\n",
    "# Calculate rank based on \"Custom Score\" manually, handling negative values\n",
    "custom_score_rank = 1  # Initialize the rank\n",
    "previous_custom_score = None  # Initialize the previous custom score\n",
    "\n",
    "# Create a list to store the custom score ranks\n",
    "custom_score_ranks = []\n",
    "\n",
    "for custom_score in merged_df['Custom Score']:\n",
    "    if custom_score != previous_custom_score:\n",
    "        custom_score_rank += 1  # Increment rank for unique values\n",
    "    custom_score_ranks.append(custom_score_rank)\n",
    "    previous_custom_score = custom_score\n",
    "\n",
    "# Add the custom score ranks to the DataFrame\n",
    "merged_df['Custom Score Rank'] = custom_score_ranks\n",
    "\n",
    "# Now, merged_df contains the manually calculated rank based on \"Custom Score\"\n"
   ],
   "metadata": {
    "collapsed": false,
    "ExecuteTime": {
     "end_time": "2023-09-30T10:03:23.505Z",
     "start_time": "2023-09-30T10:03:23.454974Z"
    }
   },
   "id": "fe771a4d66255ed2"
  },
  {
   "cell_type": "code",
   "execution_count": 16,
   "outputs": [
    {
     "data": {
      "text/plain": "                         Company Name Sector classification Listed/Unlisted  \\\n18        Reliance Industries Limited           Diversified          Listed   \n22  Tata Consultancy Services Limited                    IT          Listed   \n8                   HDFC Bank Limited               Lending          Listed   \n12                    Infosys Limited                    IT          Listed   \n10         Hindustan Unilever Limited                  FMCG          Listed   \n\n    Linear Regression Predictions  CSR Journal Rank  Spend on CSR  Required  \\\n18                      91.532893                 1       1186.00   1112.00   \n22                      96.494667                 2        727.00    716.00   \n8                      100.500744                 3        733.86    733.86   \n12                      98.181854                 5        344.91    396.70   \n10                      95.861163                 6        184.43    157.58   \n\n   Custom Score  Linear Regression Rank  Custom Score Rank  \n18         6.65                     8.0                  2  \n22         1.54                     4.0                  3  \n8          0.00                     1.0                  4  \n12       -13.06                     3.0                  5  \n10        17.04                     5.0                  6  ",
      "text/html": "<div>\n<style scoped>\n    .dataframe tbody tr th:only-of-type {\n        vertical-align: middle;\n    }\n\n    .dataframe tbody tr th {\n        vertical-align: top;\n    }\n\n    .dataframe thead th {\n        text-align: right;\n    }\n</style>\n<table border=\"1\" class=\"dataframe\">\n  <thead>\n    <tr style=\"text-align: right;\">\n      <th></th>\n      <th>Company Name</th>\n      <th>Sector classification</th>\n      <th>Listed/Unlisted</th>\n      <th>Linear Regression Predictions</th>\n      <th>CSR Journal Rank</th>\n      <th>Spend on CSR</th>\n      <th>Required</th>\n      <th>Custom Score</th>\n      <th>Linear Regression Rank</th>\n      <th>Custom Score Rank</th>\n    </tr>\n  </thead>\n  <tbody>\n    <tr>\n      <th>18</th>\n      <td>Reliance Industries Limited</td>\n      <td>Diversified</td>\n      <td>Listed</td>\n      <td>91.532893</td>\n      <td>1</td>\n      <td>1186.00</td>\n      <td>1112.00</td>\n      <td>6.65</td>\n      <td>8.0</td>\n      <td>2</td>\n    </tr>\n    <tr>\n      <th>22</th>\n      <td>Tata Consultancy Services Limited</td>\n      <td>IT</td>\n      <td>Listed</td>\n      <td>96.494667</td>\n      <td>2</td>\n      <td>727.00</td>\n      <td>716.00</td>\n      <td>1.54</td>\n      <td>4.0</td>\n      <td>3</td>\n    </tr>\n    <tr>\n      <th>8</th>\n      <td>HDFC Bank Limited</td>\n      <td>Lending</td>\n      <td>Listed</td>\n      <td>100.500744</td>\n      <td>3</td>\n      <td>733.86</td>\n      <td>733.86</td>\n      <td>0.00</td>\n      <td>1.0</td>\n      <td>4</td>\n    </tr>\n    <tr>\n      <th>12</th>\n      <td>Infosys Limited</td>\n      <td>IT</td>\n      <td>Listed</td>\n      <td>98.181854</td>\n      <td>5</td>\n      <td>344.91</td>\n      <td>396.70</td>\n      <td>-13.06</td>\n      <td>3.0</td>\n      <td>5</td>\n    </tr>\n    <tr>\n      <th>10</th>\n      <td>Hindustan Unilever Limited</td>\n      <td>FMCG</td>\n      <td>Listed</td>\n      <td>95.861163</td>\n      <td>6</td>\n      <td>184.43</td>\n      <td>157.58</td>\n      <td>17.04</td>\n      <td>5.0</td>\n      <td>6</td>\n    </tr>\n  </tbody>\n</table>\n</div>"
     },
     "execution_count": 16,
     "metadata": {},
     "output_type": "execute_result"
    }
   ],
   "source": [
    "merged_df.head()"
   ],
   "metadata": {
    "collapsed": false,
    "ExecuteTime": {
     "end_time": "2023-09-30T10:03:23.551662Z",
     "start_time": "2023-09-30T10:03:23.460686Z"
    }
   },
   "id": "be6bcdf94dbda25e"
  },
  {
   "cell_type": "code",
   "execution_count": 17,
   "outputs": [
    {
     "data": {
      "text/plain": "<Figure size 800x600 with 1 Axes>",
      "image/png": "[encoded data removed]"
     },
     "metadata": {},
     "output_type": "display_data"
    },
    {
     "name": "stdout",
     "output_type": "stream",
     "text": [
      "Correlation between Linear Regression Rank and Custom Score Rank: 0.50\n"
     ]
    }
   ],
   "source": [
    "import seaborn as sns\n",
    "import matplotlib.pyplot as plt\n",
    "\n",
    "# Create a scatter plot between Linear Regression Rank and Custom Score Rank\n",
    "plt.figure(figsize=(8, 6))\n",
    "sns.scatterplot(data=merged_df, x='Linear Regression Rank', y='Custom Score Rank')\n",
    "plt.title('Scatter Plot: Linear Regression Rank vs Custom Score Rank')\n",
    "plt.xlabel('Linear Regression Rank')\n",
    "plt.ylabel('Custom Score Rank')\n",
    "plt.show()\n",
    "\n",
    "# Calculate and display the correlation between Linear Regression Rank and Custom Score Rank\n",
    "correlation_custom_score = merged_df['Linear Regression Rank'].corr(merged_df['Custom Score Rank'])\n",
    "print(f\"Correlation between Linear Regression Rank and Custom Score Rank: {correlation_custom_score:.2f}\")"
   ],
   "metadata": {
    "collapsed": false,
    "ExecuteTime": {
     "end_time": "2023-09-30T10:03:23.637307Z",
     "start_time": "2023-09-30T10:03:23.463273Z"
    }
   },
   "id": "71a97e8e2d9e7e5b"
  },
  {
   "cell_type": "code",
   "execution_count": 20,
   "outputs": [],
   "source": [
    "# Create a copy of the merged_df DataFrame\n",
    "cleaned_merged_df = merged_df.copy()\n",
    "\n",
    "# Convert the \"Custom Score\" column to a numeric data type (float)\n",
    "cleaned_merged_df['Custom Score'] = cleaned_merged_df['Custom Score'].astype(float)\n",
    "\n",
    "# Drop rows with negative values in the \"Custom Score\" column\n",
    "cleaned_merged_df = cleaned_merged_df[cleaned_merged_df['Custom Score'] >= 0]\n",
    "\n",
    "# Now, cleaned_merged_df contains only rows with non-negative values in the \"Custom Score\" column\n",
    "\n"
   ],
   "metadata": {
    "collapsed": false,
    "ExecuteTime": {
     "end_time": "2023-09-30T10:06:13.283219Z",
     "start_time": "2023-09-30T10:06:13.270558Z"
    }
   },
   "id": "64a52797f87f2f8b"
  },
  {
   "cell_type": "code",
   "execution_count": 21,
   "outputs": [],
   "source": [
    "# Sort the DataFrame based on \"CSR Journal Rank\"\n",
    "cleaned_merged_df.sort_values(by='CSR Journal Rank', ascending=True, inplace=True)\n",
    "\n",
    "# Create rank columns based on \"Linear Regression Predictions\" and \"Custom Score\" after sorting\n",
    "cleaned_merged_df['Linear Regression Rank'] = cleaned_merged_df['Linear Regression Predictions'].rank(ascending=False, method='min')\n",
    "cleaned_merged_df['Custom Score Rank'] = cleaned_merged_df['Custom Score'].rank(ascending=False, method='min', na_option='bottom')\n",
    "\n",
    "# Now, merged_df contains two new rank columns for the specified scores based on the sorted \"CSR Journal Rank\"\n"
   ],
   "metadata": {
    "collapsed": false,
    "ExecuteTime": {
     "end_time": "2023-09-30T10:07:10.015680Z",
     "start_time": "2023-09-30T10:07:09.993817Z"
    }
   },
   "id": "473f31c88b21e35f"
  },
  {
   "cell_type": "code",
   "execution_count": 22,
   "outputs": [],
   "source": [
    "# Sort the DataFrame based on \"CSR Journal Rank\"\n",
    "cleaned_merged_df.sort_values(by='CSR Journal Rank', ascending=True, inplace=True)\n",
    "\n",
    "# Calculate rank based on \"Custom Score\" manually, handling negative values\n",
    "custom_score_rank = 1  # Initialize the rank\n",
    "previous_custom_score = None  # Initialize the previous custom score\n",
    "\n",
    "# Create a list to store the custom score ranks\n",
    "custom_score_ranks = []\n",
    "\n",
    "for custom_score in cleaned_merged_df['Custom Score']:\n",
    "    if custom_score != previous_custom_score:\n",
    "        custom_score_rank += 1  # Increment rank for unique values\n",
    "    custom_score_ranks.append(custom_score_rank)\n",
    "    previous_custom_score = custom_score\n",
    "\n",
    "# Add the custom score ranks to the DataFrame\n",
    "cleaned_merged_df['Custom Score Rank'] = custom_score_ranks\n",
    "\n",
    "# Now, merged_df contains the manually calculated rank based on \"Custom Score\"\n"
   ],
   "metadata": {
    "collapsed": false,
    "ExecuteTime": {
     "end_time": "2023-09-30T10:07:51.736252Z",
     "start_time": "2023-09-30T10:07:51.709872Z"
    }
   },
   "id": "bb78d4a13908990d"
  },
  {
   "cell_type": "code",
   "execution_count": 23,
   "outputs": [
    {
     "data": {
      "text/plain": "<Figure size 800x600 with 1 Axes>",
      "image/png": "[encoded data removed]"
     },
     "metadata": {},
     "output_type": "display_data"
    },
    {
     "name": "stdout",
     "output_type": "stream",
     "text": [
      "Correlation between Linear Regression Rank and Custom Score Rank: 0.57\n"
     ]
    }
   ],
   "source": [
    "import seaborn as sns\n",
    "import matplotlib.pyplot as plt\n",
    "\n",
    "# Create a scatter plot between Linear Regression Rank and Custom Score Rank\n",
    "plt.figure(figsize=(8, 6))\n",
    "sns.scatterplot(data=cleaned_merged_df, x='Linear Regression Rank', y='Custom Score Rank')\n",
    "plt.title('Scatter Plot: Linear Regression Rank vs Custom Score Rank')\n",
    "plt.xlabel('Linear Regression Rank')\n",
    "plt.ylabel('Custom Score Rank')\n",
    "plt.show()\n",
    "\n",
    "# Calculate and display the correlation between Linear Regression Rank and Custom Score Rank\n",
    "correlation_custom_score = cleaned_merged_df['Linear Regression Rank'].corr(cleaned_merged_df['Custom Score Rank'])\n",
    "print(f\"Correlation between Linear Regression Rank and Custom Score Rank: {correlation_custom_score:.2f}\")"
   ],
   "metadata": {
    "collapsed": false,
    "ExecuteTime": {
     "end_time": "2023-09-30T10:08:31.130279Z",
     "start_time": "2023-09-30T10:08:30.965260Z"
    }
   },
   "id": "fa783136b170013b"
  },
  {
   "cell_type": "code",
   "execution_count": null,
   "outputs": [],
   "source": [],
   "metadata": {
    "collapsed": false
   },
   "id": "eff4c7d8ef9039b4"
  }
 ],
 "metadata": {
  "kernelspec": {
   "display_name": "Python 3",
   "language": "python",
   "name": "python3"
  },
  "language_info": {
   "codemirror_mode": {
    "name": "ipython",
    "version": 2
   },
   "file_extension": ".py",
   "mimetype": "text/x-python",
   "name": "python",
   "nbconvert_exporter": "python",
   "pygments_lexer": "ipython2",
   "version": "2.7.6"
  }
 },
 "nbformat": 4,
 "nbformat_minor": 5
}
